{
 "cells": [
  {
   "cell_type": "code",
   "execution_count": 1,
   "id": "c9ff76bb-f1e2-4c57-99c2-502583b0fc02",
   "metadata": {
    "tags": []
   },
   "outputs": [],
   "source": [
    "import lux\n",
    "import pandas as pd"
   ]
  },
  {
   "cell_type": "code",
   "execution_count": 2,
   "id": "3cacda57-f79e-4e4c-83ad-3cc90412c2ad",
   "metadata": {},
   "outputs": [
    {
     "name": "stdout",
     "output_type": "stream",
     "text": [
      "Package Versions\n",
      "----------------\n",
      "               Version\n",
      "        python 3.10.0 \n",
      "           lux  0.5.1 \n",
      "        pandas  1.4.2 \n",
      "     luxwidget 0.1.11 \n",
      "    matplotlib  3.5.1 \n",
      "        altair  4.2.0 \n",
      "       IPython  8.2.0 \n",
      "     ipykernel 6.13.0 \n",
      "    ipywidgets  7.7.0 \n",
      "jupyter_client  7.3.0 \n",
      "  jupyter_core 4.10.0 \n",
      "jupyter_server 1.16.0 \n",
      "    jupyterlab  3.3.4 \n",
      "      nbclient  0.6.0 \n",
      "     nbconvert  6.5.0 \n",
      "      nbformat  5.3.0 \n",
      "      notebook 6.4.11 \n",
      "     qtconsole  5.3.0 \n",
      "     traitlets  5.1.1 \n",
      "\n",
      "Widget Setup\n",
      "-------------\n",
      "✅ Jupyter Lab Running\n",
      "✅ luxwidget is enabled\n",
      "\n"
     ]
    }
   ],
   "source": [
    "lux.debug_info()"
   ]
  },
  {
   "cell_type": "code",
   "execution_count": 3,
   "id": "efe929db-a009-4ca8-8341-198762ae888f",
   "metadata": {},
   "outputs": [],
   "source": [
    "df=pd.read_csv(\"titanic.csv\")"
   ]
  },
  {
   "cell_type": "code",
   "execution_count": 4,
   "id": "6f00fc86-b712-49ff-ae32-50a1ed29c2b7",
   "metadata": {},
   "outputs": [
    {
     "data": {
      "application/vnd.jupyter.widget-view+json": {
       "model_id": "b20debf238b44597bdeae21ffeaf8cdf",
       "version_major": 2,
       "version_minor": 0
      },
      "text/plain": [
       "Button(description='Toggle Pandas/Lux', layout=Layout(top='5px', width='140px'), style=ButtonStyle())"
      ]
     },
     "metadata": {},
     "output_type": "display_data"
    },
    {
     "data": {
      "application/vnd.jupyter.widget-view+json": {
       "model_id": "ff59de9c1b054103a737f67d1228e960",
       "version_major": 2,
       "version_minor": 0
      },
      "text/plain": [
       "Output()"
      ]
     },
     "metadata": {},
     "output_type": "display_data"
    }
   ],
   "source": [
    "df.head()"
   ]
  },
  {
   "cell_type": "code",
   "execution_count": 5,
   "id": "10be9ffa-af19-4590-8b25-d5d6a347204a",
   "metadata": {},
   "outputs": [
    {
     "data": {
      "application/vnd.jupyter.widget-view+json": {
       "model_id": "91e7dd845ebc48c78ee0495205adf6a2",
       "version_major": 2,
       "version_minor": 0
      },
      "text/plain": [
       "Button(description='Toggle Pandas/Lux', layout=Layout(top='5px', width='140px'), style=ButtonStyle())"
      ]
     },
     "metadata": {},
     "output_type": "display_data"
    },
    {
     "data": {
      "application/vnd.jupyter.widget-view+json": {
       "model_id": "3d87ad6b3fe34c28a9b6c1c36aae6b1b",
       "version_major": 2,
       "version_minor": 0
      },
      "text/plain": [
       "Output()"
      ]
     },
     "metadata": {},
     "output_type": "display_data"
    }
   ],
   "source": [
    "df.describe()"
   ]
  },
  {
   "cell_type": "code",
   "execution_count": 6,
   "id": "2f21ce53-51d4-4b76-b031-e524c7d9c5c4",
   "metadata": {},
   "outputs": [
    {
     "name": "stdout",
     "output_type": "stream",
     "text": [
      "<class 'lux.core.frame.LuxDataFrame'>\n",
      "RangeIndex: 891 entries, 0 to 890\n",
      "Data columns (total 16 columns):\n",
      " #   Column       Non-Null Count  Dtype  \n",
      "---  ------       --------------  -----  \n",
      " 0   Unnamed: 0   891 non-null    int64  \n",
      " 1   survived     891 non-null    int64  \n",
      " 2   pclass       891 non-null    int64  \n",
      " 3   sex          891 non-null    object \n",
      " 4   age          714 non-null    float64\n",
      " 5   sibsp        891 non-null    int64  \n",
      " 6   parch        891 non-null    int64  \n",
      " 7   fare         891 non-null    float64\n",
      " 8   embarked     889 non-null    object \n",
      " 9   class        891 non-null    object \n",
      " 10  who          891 non-null    object \n",
      " 11  adult_male   891 non-null    bool   \n",
      " 12  deck         203 non-null    object \n",
      " 13  embark_town  889 non-null    object \n",
      " 14  alive        891 non-null    object \n",
      " 15  alone        891 non-null    bool   \n",
      "dtypes: bool(2), float64(2), int64(5), object(7)\n",
      "memory usage: 99.3+ KB\n"
     ]
    }
   ],
   "source": [
    "df.info()"
   ]
  },
  {
   "cell_type": "code",
   "execution_count": 10,
   "id": "13d55fd7",
   "metadata": {},
   "outputs": [
    {
     "data": {
      "application/vnd.jupyter.widget-view+json": {
       "model_id": "3ecafc50d19c48f481ff701529007d6a",
       "version_major": 2,
       "version_minor": 0
      },
      "text/plain": [
       "Button(description='Toggle Pandas/Lux', layout=Layout(top='5px', width='140px'), style=ButtonStyle())"
      ]
     },
     "metadata": {},
     "output_type": "display_data"
    },
    {
     "data": {
      "application/vnd.jupyter.widget-view+json": {
       "model_id": "d4a6f4ab96c9450598fad14e68e8671b",
       "version_major": 2,
       "version_minor": 0
      },
      "text/plain": [
       "Output()"
      ]
     },
     "metadata": {},
     "output_type": "display_data"
    }
   ],
   "source": [
    "df.intent=['age']\n",
    "df"
   ]
  },
  {
   "cell_type": "code",
   "execution_count": 9,
   "id": "2cb4fae9",
   "metadata": {},
   "outputs": [
    {
     "data": {
      "application/vnd.jupyter.widget-view+json": {
       "model_id": "9a12eded42ad468a9e1c74543ad3a877",
       "version_major": 2,
       "version_minor": 0
      },
      "text/plain": [
       "Button(description='Toggle Pandas/Lux', layout=Layout(top='5px', width='140px'), style=ButtonStyle())"
      ]
     },
     "metadata": {},
     "output_type": "display_data"
    },
    {
     "data": {
      "application/vnd.jupyter.widget-view+json": {
       "model_id": "f3b630038a944d0f99a895afdced6d8a",
       "version_major": 2,
       "version_minor": 0
      },
      "text/plain": [
       "Output()"
      ]
     },
     "metadata": {},
     "output_type": "display_data"
    }
   ],
   "source": [
    "df.intent=['age', 'fare']\n",
    "df"
   ]
  },
  {
   "cell_type": "code",
   "execution_count": 12,
   "id": "b46cc8fd",
   "metadata": {},
   "outputs": [
    {
     "data": {
      "text/plain": [
       "{'Enhance': [<Vis  (x: MEAN(age), y: who        ) mark: bar    , score: 0.22 >,\n",
       "  <Vis  (x: MEAN(age), y: sibsp      ) mark: bar    , score: 0.10 >,\n",
       "  <Vis  (x: age      , y: fare       ) mark: scatter, score: 0.10 >,\n",
       "  <Vis  (x: MEAN(age), y: embarked   ) mark: bar    , score: 0.08 >,\n",
       "  <Vis  (x: MEAN(age), y: embark_town) mark: bar    , score: 0.08 >,\n",
       "  <Vis  (x: MEAN(age), y: adult_male ) mark: bar    , score: 0.08 >,\n",
       "  <Vis  (x: MEAN(age), y: pclass     ) mark: bar    , score: 0.07 >,\n",
       "  <Vis  (x: MEAN(age), y: class      ) mark: bar    , score: 0.07 >,\n",
       "  <Vis  (x: MEAN(age), y: alone      ) mark: bar    , score: 0.06 >,\n",
       "  <Vis  (x: MEAN(age), y: parch      ) mark: bar    , score: 0.05 >,\n",
       "  <Vis  (x: MEAN(age), y: deck       ) mark: bar    , score: 0.05 >,\n",
       "  <Vis  (x: MEAN(age), y: sex        ) mark: bar    , score: 0.03 >,\n",
       "  <Vis  (x: MEAN(age), y: alive      ) mark: bar    , score: 0.02 >,\n",
       "  <Vis  (x: MEAN(age), y: survived   ) mark: bar    , score: 0.02 >,\n",
       "  <Vis  (x: MEAN(age), y: Unnamed: 0 ) mark: bar    , score: 0.00 >],\n",
       " 'Filter': [<Vis  (x: BIN(age), y: COUNT(Record)  -- [who=man]          ) mark: histogram, score: 14.37 >,\n",
       "  <Vis  (x: BIN(age), y: COUNT(Record)  -- [adult_male=True]  ) mark: histogram, score: 14.37 >,\n",
       "  <Vis  (x: BIN(age), y: COUNT(Record)  -- [parch=0]          ) mark: histogram, score: 7.09 >,\n",
       "  <Vis  (x: BIN(age), y: COUNT(Record)  -- [who=woman]        ) mark: histogram, score: 6.37 >,\n",
       "  <Vis  (x: BIN(age), y: COUNT(Record)  -- [alone=True]       ) mark: histogram, score: 5.85 >,\n",
       "  <Vis  (x: BIN(age), y: COUNT(Record)  -- [adult_male=False] ) mark: histogram, score: 5.63 >,\n",
       "  <Vis  (x: BIN(age), y: COUNT(Record)  -- [alone=False]      ) mark: histogram, score: 5.44 >,\n",
       "  <Vis  (x: BIN(age), y: COUNT(Record)  -- [sex=female]       ) mark: histogram, score: 4.10 >,\n",
       "  <Vis  (x: BIN(age), y: COUNT(Record)  -- [pclass=1]         ) mark: histogram, score: 3.99 >,\n",
       "  <Vis  (x: BIN(age), y: COUNT(Record)  -- [class=First]      ) mark: histogram, score: 3.99 >,\n",
       "  <Vis  (x: BIN(age), y: COUNT(Record)  -- [sibsp=0]          ) mark: histogram, score: 3.97 >,\n",
       "  <Vis  (x: BIN(age), y: COUNT(Record)  -- [survived=0]       ) mark: histogram, score: 3.46 >,\n",
       "  <Vis  (x: BIN(age), y: COUNT(Record)  -- [alive=no]         ) mark: histogram, score: 3.46 >,\n",
       "  <Vis  (x: BIN(age), y: COUNT(Record)  -- [sibsp=1]          ) mark: histogram, score: 3.28 >,\n",
       "  <Vis  (x: BIN(age), y: COUNT(Record)  -- [parch=1]          ) mark: histogram, score: 3.18 >]}"
      ]
     },
     "execution_count": 12,
     "metadata": {},
     "output_type": "execute_result"
    }
   ],
   "source": [
    "df.recommendation"
   ]
  },
  {
   "cell_type": "code",
   "execution_count": null,
   "id": "fd80736c",
   "metadata": {},
   "outputs": [],
   "source": []
  }
 ],
 "metadata": {
  "kernelspec": {
   "display_name": "Python 3 (ipykernel)",
   "language": "python",
   "name": "python3"
  },
  "language_info": {
   "codemirror_mode": {
    "name": "ipython",
    "version": 3
   },
   "file_extension": ".py",
   "mimetype": "text/x-python",
   "name": "python",
   "nbconvert_exporter": "python",
   "pygments_lexer": "ipython3",
   "version": "3.10.0"
  }
 },
 "nbformat": 4,
 "nbformat_minor": 5
}
