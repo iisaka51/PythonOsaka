{
 "cells": [
  {
   "cell_type": "code",
   "execution_count": 1,
   "id": "c9c6f5ea-9e60-4fb6-994d-77faafbc6a7a",
   "metadata": {},
   "outputs": [
    {
     "name": "stderr",
     "output_type": "stream",
     "text": [
      "PandasGUI INFO — pandasgui.gui — Opening PandasGUI\n"
     ]
    },
    {
     "ename": "AttributeError",
     "evalue": "module 'bokeh.plotting' has no attribute 'plotting'",
     "output_type": "error",
     "traceback": [
      "\u001b[0;31m---------------------------------------------------------------------------\u001b[0m",
      "\u001b[0;31mAttributeError\u001b[0m                            Traceback (most recent call last)",
      "Input \u001b[0;32mIn [1]\u001b[0m, in \u001b[0;36m<cell line: 4>\u001b[0;34m()\u001b[0m\n\u001b[1;32m      1\u001b[0m \u001b[38;5;28;01mfrom\u001b[39;00m \u001b[38;5;21;01mpandasgui\u001b[39;00m \u001b[38;5;28;01mimport\u001b[39;00m show\n\u001b[1;32m      2\u001b[0m \u001b[38;5;28;01mfrom\u001b[39;00m \u001b[38;5;21;01mpandasgui\u001b[39;00m\u001b[38;5;21;01m.\u001b[39;00m\u001b[38;5;21;01mdatasets\u001b[39;00m \u001b[38;5;28;01mimport\u001b[39;00m titanic\n\u001b[0;32m----> 4\u001b[0m gui \u001b[38;5;241m=\u001b[39m \u001b[43mshow\u001b[49m\u001b[43m(\u001b[49m\u001b[43mtitanic\u001b[49m\u001b[43m)\u001b[49m\n",
      "File \u001b[0;32m~/anaconda3/envs/EDA/lib/python3.10/site-packages/pandasgui/gui.py:468\u001b[0m, in \u001b[0;36mshow\u001b[0;34m(settings, *args, **kwargs)\u001b[0m\n\u001b[1;32m    464\u001b[0m     logger\u001b[38;5;241m.\u001b[39mwarning(\u001b[38;5;124m\"\u001b[39m\u001b[38;5;124mDuplicate names were provided, duplicates were ignored.\u001b[39m\u001b[38;5;124m\"\u001b[39m)\n\u001b[1;32m    466\u001b[0m kwargs \u001b[38;5;241m=\u001b[39m {\u001b[38;5;241m*\u001b[39m\u001b[38;5;241m*\u001b[39mkwargs, \u001b[38;5;241m*\u001b[39m\u001b[38;5;241m*\u001b[39mitems}\n\u001b[0;32m--> 468\u001b[0m pandas_gui \u001b[38;5;241m=\u001b[39m \u001b[43mPandasGui\u001b[49m\u001b[43m(\u001b[49m\u001b[43msettings\u001b[49m\u001b[38;5;241;43m=\u001b[39;49m\u001b[43msettings\u001b[49m\u001b[43m,\u001b[49m\u001b[43m \u001b[49m\u001b[38;5;241;43m*\u001b[39;49m\u001b[38;5;241;43m*\u001b[39;49m\u001b[43mkwargs\u001b[49m\u001b[43m)\u001b[49m\n\u001b[1;32m    469\u001b[0m pandas_gui\u001b[38;5;241m.\u001b[39mcaller_stack \u001b[38;5;241m=\u001b[39m inspect\u001b[38;5;241m.\u001b[39mcurrentframe()\u001b[38;5;241m.\u001b[39mf_back\n\u001b[1;32m    471\u001b[0m \u001b[38;5;66;03m# Register IPython magic\u001b[39;00m\n",
      "File \u001b[0;32m~/anaconda3/envs/EDA/lib/python3.10/site-packages/pandasgui/gui.py:73\u001b[0m, in \u001b[0;36mPandasGui.__init__\u001b[0;34m(self, settings, **kwargs)\u001b[0m\n\u001b[1;32m     70\u001b[0m \u001b[38;5;66;03m# Create all widgets\u001b[39;00m\n\u001b[1;32m     71\u001b[0m \u001b[38;5;28mself\u001b[39m\u001b[38;5;241m.\u001b[39minit_ui()\n\u001b[0;32m---> 73\u001b[0m plotly_kwargs \u001b[38;5;241m=\u001b[39m {key: value \u001b[38;5;28;01mfor\u001b[39;00m (key, value) \u001b[38;5;129;01min\u001b[39;00m kwargs\u001b[38;5;241m.\u001b[39mitems() \u001b[38;5;28;01mif\u001b[39;00m get_figure_type(value) \u001b[38;5;129;01mis\u001b[39;00m \u001b[38;5;129;01mnot\u001b[39;00m \u001b[38;5;28;01mNone\u001b[39;00m}\n\u001b[1;32m     74\u001b[0m json_kwargs \u001b[38;5;241m=\u001b[39m {key: value \u001b[38;5;28;01mfor\u001b[39;00m (key, value) \u001b[38;5;129;01min\u001b[39;00m kwargs\u001b[38;5;241m.\u001b[39mitems() \u001b[38;5;28;01mif\u001b[39;00m \u001b[38;5;28many\u001b[39m([\n\u001b[1;32m     75\u001b[0m     \u001b[38;5;28missubclass\u001b[39m(\u001b[38;5;28mtype\u001b[39m(value), \u001b[38;5;28mlist\u001b[39m),\n\u001b[1;32m     76\u001b[0m     \u001b[38;5;28missubclass\u001b[39m(\u001b[38;5;28mtype\u001b[39m(value), \u001b[38;5;28mdict\u001b[39m),\n\u001b[1;32m     77\u001b[0m ])}\n\u001b[1;32m     78\u001b[0m dataframe_kwargs \u001b[38;5;241m=\u001b[39m {key: value \u001b[38;5;28;01mfor\u001b[39;00m (key, value) \u001b[38;5;129;01min\u001b[39;00m kwargs\u001b[38;5;241m.\u001b[39mitems() \u001b[38;5;28;01mif\u001b[39;00m \u001b[38;5;28many\u001b[39m([\n\u001b[1;32m     79\u001b[0m     \u001b[38;5;28missubclass\u001b[39m(\u001b[38;5;28mtype\u001b[39m(value), pd\u001b[38;5;241m.\u001b[39mDataFrame),\n\u001b[1;32m     80\u001b[0m     \u001b[38;5;28missubclass\u001b[39m(\u001b[38;5;28mtype\u001b[39m(value), pd\u001b[38;5;241m.\u001b[39mSeries),\n\u001b[1;32m     81\u001b[0m ])}\n",
      "File \u001b[0;32m~/anaconda3/envs/EDA/lib/python3.10/site-packages/pandasgui/gui.py:73\u001b[0m, in \u001b[0;36m<dictcomp>\u001b[0;34m(.0)\u001b[0m\n\u001b[1;32m     70\u001b[0m \u001b[38;5;66;03m# Create all widgets\u001b[39;00m\n\u001b[1;32m     71\u001b[0m \u001b[38;5;28mself\u001b[39m\u001b[38;5;241m.\u001b[39minit_ui()\n\u001b[0;32m---> 73\u001b[0m plotly_kwargs \u001b[38;5;241m=\u001b[39m {key: value \u001b[38;5;28;01mfor\u001b[39;00m (key, value) \u001b[38;5;129;01min\u001b[39;00m kwargs\u001b[38;5;241m.\u001b[39mitems() \u001b[38;5;28;01mif\u001b[39;00m \u001b[43mget_figure_type\u001b[49m\u001b[43m(\u001b[49m\u001b[43mvalue\u001b[49m\u001b[43m)\u001b[49m \u001b[38;5;129;01mis\u001b[39;00m \u001b[38;5;129;01mnot\u001b[39;00m \u001b[38;5;28;01mNone\u001b[39;00m}\n\u001b[1;32m     74\u001b[0m json_kwargs \u001b[38;5;241m=\u001b[39m {key: value \u001b[38;5;28;01mfor\u001b[39;00m (key, value) \u001b[38;5;129;01min\u001b[39;00m kwargs\u001b[38;5;241m.\u001b[39mitems() \u001b[38;5;28;01mif\u001b[39;00m \u001b[38;5;28many\u001b[39m([\n\u001b[1;32m     75\u001b[0m     \u001b[38;5;28missubclass\u001b[39m(\u001b[38;5;28mtype\u001b[39m(value), \u001b[38;5;28mlist\u001b[39m),\n\u001b[1;32m     76\u001b[0m     \u001b[38;5;28missubclass\u001b[39m(\u001b[38;5;28mtype\u001b[39m(value), \u001b[38;5;28mdict\u001b[39m),\n\u001b[1;32m     77\u001b[0m ])}\n\u001b[1;32m     78\u001b[0m dataframe_kwargs \u001b[38;5;241m=\u001b[39m {key: value \u001b[38;5;28;01mfor\u001b[39;00m (key, value) \u001b[38;5;129;01min\u001b[39;00m kwargs\u001b[38;5;241m.\u001b[39mitems() \u001b[38;5;28;01mif\u001b[39;00m \u001b[38;5;28many\u001b[39m([\n\u001b[1;32m     79\u001b[0m     \u001b[38;5;28missubclass\u001b[39m(\u001b[38;5;28mtype\u001b[39m(value), pd\u001b[38;5;241m.\u001b[39mDataFrame),\n\u001b[1;32m     80\u001b[0m     \u001b[38;5;28missubclass\u001b[39m(\u001b[38;5;28mtype\u001b[39m(value), pd\u001b[38;5;241m.\u001b[39mSeries),\n\u001b[1;32m     81\u001b[0m ])}\n",
      "File \u001b[0;32m~/anaconda3/envs/EDA/lib/python3.10/site-packages/pandasgui/utility.py:446\u001b[0m, in \u001b[0;36mget_figure_type\u001b[0;34m(fig)\u001b[0m\n\u001b[1;32m    444\u001b[0m \u001b[38;5;28;01mtry\u001b[39;00m:\n\u001b[1;32m    445\u001b[0m     \u001b[38;5;28;01mimport\u001b[39;00m \u001b[38;5;21;01mbokeh\u001b[39;00m\u001b[38;5;21;01m.\u001b[39;00m\u001b[38;5;21;01mplotting\u001b[39;00m \u001b[38;5;28;01mas\u001b[39;00m \u001b[38;5;21;01mbp\u001b[39;00m\n\u001b[0;32m--> 446\u001b[0m     \u001b[38;5;28;01mif\u001b[39;00m \u001b[38;5;28missubclass\u001b[39m(\u001b[38;5;28mtype\u001b[39m(fig), \u001b[43mbp\u001b[49m\u001b[38;5;241;43m.\u001b[39;49m\u001b[43mplotting\u001b[49m\u001b[38;5;241m.\u001b[39mFigure):\n\u001b[1;32m    447\u001b[0m         \u001b[38;5;28;01mreturn\u001b[39;00m \u001b[38;5;124m\"\u001b[39m\u001b[38;5;124mbokeh\u001b[39m\u001b[38;5;124m\"\u001b[39m\n\u001b[1;32m    448\u001b[0m \u001b[38;5;28;01mexcept\u001b[39;00m \u001b[38;5;167;01mModuleNotFoundError\u001b[39;00m:\n",
      "\u001b[0;31mAttributeError\u001b[0m: module 'bokeh.plotting' has no attribute 'plotting'"
     ]
    }
   ],
   "source": [
    "from pandasgui import show\n",
    "from pandasgui.datasets import titanic\n",
    "\n",
    "gui = show(titanic)"
   ]
  },
  {
   "cell_type": "code",
   "execution_count": 4,
   "id": "317d7c2b-4600-40bd-af11-a5cdb4bb99e4",
   "metadata": {},
   "outputs": [
    {
     "name": "stdout",
     "output_type": "stream",
     "text": [
      "Requirement already satisfied: bokeh in /Users/goichiiisaka/.pyenv/versions/3.10.0/envs/EDA/lib/python3.10/site-packages (2.4.2)\n",
      "Requirement already satisfied: packaging>=16.8 in /Users/goichiiisaka/.pyenv/versions/3.10.0/envs/EDA/lib/python3.10/site-packages (from bokeh) (21.3)\n",
      "Requirement already satisfied: numpy>=1.11.3 in /Users/goichiiisaka/.pyenv/versions/3.10.0/envs/EDA/lib/python3.10/site-packages (from bokeh) (1.22.3)\n",
      "Requirement already satisfied: typing-extensions>=3.10.0 in /Users/goichiiisaka/.pyenv/versions/3.10.0/envs/EDA/lib/python3.10/site-packages (from bokeh) (4.2.0)\n",
      "Requirement already satisfied: tornado>=5.1 in /Users/goichiiisaka/.pyenv/versions/3.10.0/envs/EDA/lib/python3.10/site-packages (from bokeh) (6.1)\n",
      "Requirement already satisfied: PyYAML>=3.10 in /Users/goichiiisaka/.pyenv/versions/3.10.0/envs/EDA/lib/python3.10/site-packages (from bokeh) (6.0)\n",
      "Requirement already satisfied: pillow>=7.1.0 in /Users/goichiiisaka/.pyenv/versions/3.10.0/envs/EDA/lib/python3.10/site-packages (from bokeh) (9.1.0)\n",
      "Requirement already satisfied: Jinja2>=2.9 in /Users/goichiiisaka/.pyenv/versions/3.10.0/envs/EDA/lib/python3.10/site-packages (from bokeh) (3.1.1)\n",
      "Requirement already satisfied: MarkupSafe>=2.0 in /Users/goichiiisaka/.pyenv/versions/3.10.0/envs/EDA/lib/python3.10/site-packages (from Jinja2>=2.9->bokeh) (2.0.1)\n",
      "Requirement already satisfied: pyparsing!=3.0.5,>=2.0.2 in /Users/goichiiisaka/.pyenv/versions/3.10.0/envs/EDA/lib/python3.10/site-packages (from packaging>=16.8->bokeh) (3.0.8)\n"
     ]
    }
   ],
   "source": [
    "!pip install bokeh"
   ]
  },
  {
   "cell_type": "code",
   "execution_count": null,
   "id": "d3787752-0466-491d-804e-01fce6eacd08",
   "metadata": {},
   "outputs": [],
   "source": [
    "import bokeh.plotting as bp\n",
    "type(bp.plotting.Figure)"
   ]
  },
  {
   "cell_type": "code",
   "execution_count": null,
   "id": "2be53c65-e76a-4f00-bc9f-fd695c149159",
   "metadata": {},
   "outputs": [],
   "source": []
  }
 ],
 "metadata": {
  "kernelspec": {
   "display_name": "Python 3 (ipykernel)",
   "language": "python",
   "name": "python3"
  },
  "language_info": {
   "codemirror_mode": {
    "name": "ipython",
    "version": 3
   },
   "file_extension": ".py",
   "mimetype": "text/x-python",
   "name": "python",
   "nbconvert_exporter": "python",
   "pygments_lexer": "ipython3",
   "version": "3.10.0"
  }
 },
 "nbformat": 4,
 "nbformat_minor": 5
}
